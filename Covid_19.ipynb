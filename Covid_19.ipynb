{
  "nbformat": 4,
  "nbformat_minor": 0,
  "metadata": {
    "colab": {
      "name": "Covid-19.ipynb",
      "provenance": [],
      "collapsed_sections": [],
      "authorship_tag": "ABX9TyN3qYRXmvujyrpVbQfNddyJ",
      "include_colab_link": true
    },
    "kernelspec": {
      "name": "python3",
      "display_name": "Python 3"
    },
    "language_info": {
      "name": "python"
    }
  },
  "cells": [
    {
      "cell_type": "markdown",
      "metadata": {
        "id": "view-in-github",
        "colab_type": "text"
      },
      "source": [
        "<a href=\"https://colab.research.google.com/github/aycaecemgul/InceptionV3_COVID-19/blob/master/Covid_19.ipynb\" target=\"_parent\"><img src=\"https://colab.research.google.com/assets/colab-badge.svg\" alt=\"Open In Colab\"/></a>"
      ]
    },
    {
      "cell_type": "code",
      "metadata": {
        "id": "l_qKpUOgUdSr"
      },
      "source": [
        "gpu_info = !nvidia-smi\n",
        "gpu_info = '\\n'.join(gpu_info)\n",
        "if gpu_info.find('failed') >= 0:\n",
        "  print('Select the Runtime > \"Change runtime type\" menu to enable a GPU accelerator, ')\n",
        "  print('and then re-execute this cell.')\n",
        "else:\n",
        "  print(gpu_info)"
      ],
      "execution_count": null,
      "outputs": []
    },
    {
      "cell_type": "code",
      "metadata": {
        "id": "35fD7VNRUhrt"
      },
      "source": [
        "from psutil import virtual_memory\n",
        "ram_gb = virtual_memory().total / 1e9\n",
        "print('Your runtime has {:.1f} gigabytes of available RAM\\n'.format(ram_gb))\n",
        "\n",
        "if ram_gb < 20:\n",
        "  print('To enable a high-RAM runtime, select the Runtime > \"Change runtime type\"')\n",
        "  print('menu, and then select High-RAM in the Runtime shape dropdown. Then, ')\n",
        "  print('re-execute this cell.')\n",
        "else:\n",
        "  print('You are using a high-RAM runtime!')"
      ],
      "execution_count": null,
      "outputs": []
    },
    {
      "cell_type": "code",
      "metadata": {
        "id": "p27N-wqPSmit"
      },
      "source": [
        "import os\n",
        "import pickle\n",
        "import random\n",
        "\n",
        "import numpy as np\n",
        "import tensorflow as tf\n",
        "import tensorflow.keras\n",
        "from PIL import Image\n",
        "from matplotlib import pyplot as plt\n",
        "from keras_preprocessing.image import ImageDataGenerator\n",
        "from sklearn.model_selection import train_test_split\n",
        "from tensorflow.keras import models\n",
        "from tensorflow.keras.models import Sequential\n",
        "from tensorflow.keras.callbacks import ModelCheckpoint, LearningRateScheduler, EarlyStopping, ReduceLROnPlateau\n",
        "from numpy import asarray\n",
        "from tensorflow.keras.layers import Dense, Flatten\n",
        "from tensorflow.keras.applications.inception_v3 import InceptionV3\n",
        "from numpy import asarray\n",
        "from matplotlib import pyplot as plt"
      ],
      "execution_count": null,
      "outputs": []
    },
    {
      "cell_type": "code",
      "metadata": {
        "id": "Og8oMjbNUuIU"
      },
      "source": [
        "from google.colab import drive\n",
        "\n",
        "drive.mount(‘/content/gdrive’)"
      ],
      "execution_count": null,
      "outputs": []
    },
    {
      "cell_type": "code",
      "metadata": {
        "id": "3wz2DRV9VBwR"
      },
      "source": [
        "!unrar x \"/content/drive/My Drive/Desktop.rar\" \"/content/drive/My Drive/\""
      ],
      "execution_count": null,
      "outputs": []
    },
    {
      "cell_type": "code",
      "metadata": {
        "id": "HbQQBsiqStdz"
      },
      "source": [
        "DIR = 'D:\\Tez\\Datasets\\kaggle'\n",
        "CATEGORIES = [\"0NonCOVID\",\"1COVID\",\"2CAP\"]\n",
        "IMG_SIZE = 150\n",
        "IMG_SHAPE=(150,150,3)"
      ],
      "execution_count": null,
      "outputs": []
    },
    {
      "cell_type": "code",
      "metadata": {
        "id": "lFlOrIacSyck"
      },
      "source": [
        "dataset_train=tf.keras.preprocessing.image_dataset_from_directory(\n",
        "    DIR,\n",
        "    labels=\"inferred\",\n",
        "    label_mode=\"int\",\n",
        "    class_names=CATEGORIES,\n",
        "    color_mode=\"rgb\",\n",
        "    image_size=(IMG_SIZE,IMG_SIZE),\n",
        "    shuffle=True,\n",
        "    seed=123,\n",
        "    validation_split=0.33,\n",
        "    subset=\"training\"\n",
        ")\n",
        "\n",
        "dataset_val=tf.keras.preprocessing.image_dataset_from_directory(\n",
        "    DIR,\n",
        "    labels=\"inferred\",\n",
        "    label_mode=\"int\",\n",
        "    class_names=CATEGORIES,\n",
        "    color_mode=\"rgb\",\n",
        "    image_size=(IMG_SIZE,IMG_SIZE),\n",
        "    shuffle=True,\n",
        "    seed=123,\n",
        "    validation_split=0.33,\n",
        "    subset=\"validation\"\n",
        ")"
      ],
      "execution_count": null,
      "outputs": []
    },
    {
      "cell_type": "code",
      "metadata": {
        "id": "oPxElCpTS1EB"
      },
      "source": [
        "normalization_layer = tf.keras.layers.experimental.preprocessing.Rescaling(1./255)"
      ],
      "execution_count": null,
      "outputs": []
    },
    {
      "cell_type": "code",
      "metadata": {
        "id": "JzLde2R3S37I"
      },
      "source": [
        "dataset_train = dataset_train.map(lambda x, y: (normalization_layer(x), y))\n",
        "dataset_val = dataset_val.map(lambda x, y: (normalization_layer(x), y))"
      ],
      "execution_count": null,
      "outputs": []
    },
    {
      "cell_type": "code",
      "metadata": {
        "id": "aP1M-1sRS6Fk"
      },
      "source": [
        "base_model = InceptionV3(\n",
        "                          weights='imagenet',\n",
        "                          include_top=False,\n",
        "                          input_shape=IMG_SHAPE\n",
        "                        )\n",
        "\n",
        "base_model.trainable=False\n",
        "\n",
        "model = tf.keras.Sequential()\n",
        "model.add(base_model)\n",
        "model.add(Flatten())\n",
        "model.add(Dense(3, activation='softmax'))\n",
        "\n",
        "model.summary()"
      ],
      "execution_count": null,
      "outputs": []
    },
    {
      "cell_type": "code",
      "metadata": {
        "id": "SDMdRtDNS59D"
      },
      "source": [
        "model.compile(loss=\"sparse_categorical_crossentropy\", optimizer='adam', metrics=['accuracy'])\n"
      ],
      "execution_count": null,
      "outputs": []
    },
    {
      "cell_type": "code",
      "metadata": {
        "id": "m-rVPbQrS99L"
      },
      "source": [
        "model.fit(dataset_train,batch_size=32,validation_data = dataset_val,epochs = 5,verbose=2)"
      ],
      "execution_count": null,
      "outputs": []
    },
    {
      "cell_type": "code",
      "metadata": {
        "id": "uuBQKczzTAH4"
      },
      "source": [
        "model.save(\"covid-19.model\")"
      ],
      "execution_count": null,
      "outputs": []
    }
  ]
}